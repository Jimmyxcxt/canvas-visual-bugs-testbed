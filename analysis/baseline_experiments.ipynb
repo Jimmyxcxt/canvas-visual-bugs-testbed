{
 "cells": [
  {
   "cell_type": "code",
   "execution_count": 1,
   "id": "066f1406-4d50-4f53-9ee2-ab49e4f8cca9",
   "metadata": {},
   "outputs": [],
   "source": [
    "from sprite_similarity.baseline import runBaseline"
   ]
  },
  {
   "cell_type": "code",
   "execution_count": 2,
   "id": "4f3ec7e9-b34b-4342-a1df-3dacb332e8b4",
   "metadata": {},
   "outputs": [],
   "source": [
    "runBaseline(\"exp_0\")"
   ]
  },
  {
   "cell_type": "code",
   "execution_count": 3,
   "id": "74bb30f7-ddb9-47f9-ab21-c3dd42734e58",
   "metadata": {},
   "outputs": [],
   "source": [
    "runBaseline(\"exp_rendering_1\")"
   ]
  },
  {
   "cell_type": "code",
   "execution_count": 4,
   "id": "8060e76f-e1d0-4ba9-a06d-2cea58dc534b",
   "metadata": {},
   "outputs": [],
   "source": [
    "runBaseline(\"exp_rendering_2\")"
   ]
  },
  {
   "cell_type": "code",
   "execution_count": 5,
   "id": "35c29411-df0f-4e3c-b23f-07025543aee5",
   "metadata": {},
   "outputs": [],
   "source": [
    "runBaseline(\"exp_rendering_3\")"
   ]
  },
  {
   "cell_type": "code",
   "execution_count": 6,
   "id": "b61a83fc-1b19-453c-9b08-d828cbc66801",
   "metadata": {},
   "outputs": [],
   "source": [
    "runBaseline(\"exp_rendering_4\")"
   ]
  },
  {
   "cell_type": "code",
   "execution_count": 7,
   "id": "156b34ca-9b6f-4c21-948b-c0750acc7561",
   "metadata": {},
   "outputs": [],
   "source": [
    "runBaseline(\"exp_rendering_5\")"
   ]
  },
  {
   "cell_type": "code",
   "execution_count": 8,
   "id": "14bc6d51-4b47-4b2a-9add-5d1b940bd709",
   "metadata": {},
   "outputs": [],
   "source": [
    "runBaseline(\"exp_rendering_6\")"
   ]
  },
  {
   "cell_type": "code",
   "execution_count": 9,
   "id": "e2b1e235-3cb1-4e41-9a4d-22076a6f9530",
   "metadata": {},
   "outputs": [],
   "source": [
    "runBaseline(\"exp_appearance_1\")"
   ]
  },
  {
   "cell_type": "code",
   "execution_count": 10,
   "id": "d76a3e1e-c660-4233-9f53-917d6bd718f8",
   "metadata": {},
   "outputs": [],
   "source": [
    "runBaseline(\"exp_appearance_2\")"
   ]
  },
  {
   "cell_type": "code",
   "execution_count": 11,
   "id": "b7eb0730-e6fd-454b-831b-b56c9e53bb99",
   "metadata": {},
   "outputs": [],
   "source": [
    "runBaseline(\"exp_appearance_3\")"
   ]
  },
  {
   "cell_type": "code",
   "execution_count": 12,
   "id": "27ebd07e-77f6-4fce-9d44-2091422a7119",
   "metadata": {},
   "outputs": [],
   "source": [
    "runBaseline(\"exp_appearance_4\")"
   ]
  },
  {
   "cell_type": "code",
   "execution_count": 13,
   "id": "945f218c-98a0-4626-bd07-5c34fcfb3a67",
   "metadata": {},
   "outputs": [],
   "source": [
    "runBaseline(\"exp_appearance_5\")"
   ]
  },
  {
   "cell_type": "code",
   "execution_count": 14,
   "id": "ae6c6dde-37dd-4af3-b257-e8035e19b078",
   "metadata": {},
   "outputs": [],
   "source": [
    "runBaseline(\"exp_appearance_6\")"
   ]
  },
  {
   "cell_type": "code",
   "execution_count": 15,
   "id": "d5ee63ac-25ee-435a-b566-ab2e1a8d7ec7",
   "metadata": {},
   "outputs": [],
   "source": [
    "runBaseline(\"exp_layout_1\")"
   ]
  },
  {
   "cell_type": "code",
   "execution_count": 16,
   "id": "167322c2-cc24-4751-93d1-20d3a004e41b",
   "metadata": {},
   "outputs": [],
   "source": [
    "runBaseline(\"exp_layout_2\")"
   ]
  },
  {
   "cell_type": "code",
   "execution_count": 17,
   "id": "874e8a5e-929f-4e02-a580-971ec33cbcdb",
   "metadata": {},
   "outputs": [],
   "source": [
    "runBaseline(\"exp_layout_3\")"
   ]
  },
  {
   "cell_type": "code",
   "execution_count": 18,
   "id": "2706e365-77eb-4840-b1d1-11083f0977f4",
   "metadata": {},
   "outputs": [],
   "source": [
    "runBaseline(\"exp_layout_4\")"
   ]
  },
  {
   "cell_type": "code",
   "execution_count": 19,
   "id": "a31775cf-1f6a-46c4-948c-541582534ab0",
   "metadata": {},
   "outputs": [],
   "source": [
    "runBaseline(\"exp_layout_5\")"
   ]
  },
  {
   "cell_type": "code",
   "execution_count": 20,
   "id": "3888fe8f-ac39-4cba-accb-6a9c84e04458",
   "metadata": {},
   "outputs": [],
   "source": [
    "runBaseline(\"exp_layout_6\")"
   ]
  },
  {
   "cell_type": "code",
   "execution_count": 21,
   "id": "df0a4128-d2ce-4bcc-bc49-67664046de8c",
   "metadata": {},
   "outputs": [],
   "source": [
    "runBaseline(\"exp_state_1\")"
   ]
  },
  {
   "cell_type": "code",
   "execution_count": 22,
   "id": "d361aaee-e450-46a7-9fd9-a9d93bb658ca",
   "metadata": {},
   "outputs": [],
   "source": [
    "runBaseline(\"exp_state_2\")"
   ]
  },
  {
   "cell_type": "code",
   "execution_count": 23,
   "id": "a45b05ba-042a-4aa3-b521-d6133d3ac9d4",
   "metadata": {},
   "outputs": [],
   "source": [
    "runBaseline(\"exp_state_3\")"
   ]
  },
  {
   "cell_type": "code",
   "execution_count": 24,
   "id": "d54d6d62-20e1-4a5e-84dc-7f6a02cdb3ec",
   "metadata": {},
   "outputs": [],
   "source": [
    "runBaseline(\"exp_state_4\")"
   ]
  },
  {
   "cell_type": "code",
   "execution_count": 25,
   "id": "f4a284bb-ed87-41ab-9e30-e83c1719108b",
   "metadata": {},
   "outputs": [],
   "source": [
    "runBaseline(\"exp_state_5\")"
   ]
  },
  {
   "cell_type": "code",
   "execution_count": 26,
   "id": "a97ddcb0-7b13-4e10-ad54-0285e85f749c",
   "metadata": {},
   "outputs": [],
   "source": [
    "runBaseline(\"exp_state_6\")"
   ]
  }
 ],
 "metadata": {
  "kernelspec": {
   "display_name": "Python 3 (ipykernel)",
   "language": "python",
   "name": "python3"
  },
  "language_info": {
   "codemirror_mode": {
    "name": "ipython",
    "version": 3
   },
   "file_extension": ".py",
   "mimetype": "text/x-python",
   "name": "python",
   "nbconvert_exporter": "python",
   "pygments_lexer": "ipython3",
   "version": "3.9.7"
  }
 },
 "nbformat": 4,
 "nbformat_minor": 5
}

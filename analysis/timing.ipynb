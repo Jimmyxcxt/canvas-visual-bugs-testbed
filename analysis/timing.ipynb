{
 "cells": [
  {
   "cell_type": "code",
   "execution_count": 1,
   "id": "0afd0e78-8a1c-4a89-8539-5350ef0ce7a6",
   "metadata": {},
   "outputs": [],
   "source": [
    "from pathlib import Path\n",
    "import pandas as pd\n",
    "import numpy as np\n",
    "import re"
   ]
  },
  {
   "cell_type": "code",
   "execution_count": 2,
   "id": "ab08ec0f-e6ec-4068-a87b-c2760b1fe2c6",
   "metadata": {},
   "outputs": [],
   "source": [
    "logs_path = Path('./log/')"
   ]
  },
  {
   "cell_type": "code",
   "execution_count": 3,
   "id": "839b6970-0215-40f9-90e8-fdc0bb8b9052",
   "metadata": {},
   "outputs": [],
   "source": [
    "re_baseline_total = re.compile(\"'runBaseline', 'time': \")\n",
    "re_baseline = re.compile(\"'check_all_snapshots', 'time': \\d*\\.\\d*\")\n",
    "\n",
    "re_loadmodel = re.compile(\"'get_model', 'time': \\d*\\.\\d*\")\n",
    "re_preprocess = re.compile(\"'preprocess', 'time': \\d*\\.\\d*\")\n",
    "re_get_cosine_sims = re.compile(\"'get_cosine_sims', 'time': \\d*\\.\\d*\")\n",
    "re_get_pixel_sims = re.compile(\"'get_pixel_sims', 'time': \\d*\\.\\d*\")\n",
    "re_get_struc_sims = re.compile(\"'get_struc_sims', 'time': \\d*\\.\\d*\")\n",
    "re_get_mean_sq_errs = re.compile(\"'get_mean_squared_errors', 'time': \\d*\\.\\d*\")\n",
    "re_check_snapshot = re.compile(\"'check_snapshot', 'time': \\d*\\.\\d*\")\n",
    "re_run = re.compile(\"'run', 'time': \\d*\\.\\d*\")\n",
    "\n",
    "re_time = re.compile(\"\\d*\\.\\d*\")"
   ]
  },
  {
   "cell_type": "code",
   "execution_count": 35,
   "id": "8da55385-4f0b-4171-81a9-71ad2753d5fb",
   "metadata": {},
   "outputs": [],
   "source": [
    "baseline_times = []\n",
    "baseline_get_pixel_times = []\n",
    "baseline_get_struc_times = []\n",
    "baseline_get_mse_times = []\n",
    "preprocess_times = []\n",
    "get_cosine_times = []\n",
    "get_pixel_times = []\n",
    "get_struc_times = []\n",
    "get_mse_times = []\n",
    "\n",
    "def strip_times(time_str_list):\n",
    "    time_list = []\n",
    "    for t in time_str_list:\n",
    "        time_list.append(float(re_time.search(t).group()))\n",
    "    return time_list\n",
    "\n",
    "for log_file_path in logs_path.glob(\"*.log\"):\n",
    "    if \"bg_black\" not in log_file_path.name and \"baseline\" not in log_file_path.name:\n",
    "        continue\n",
    "    with open(log_file_path) as f:\n",
    "        log_file = f.read()\n",
    "    if \"baseline\" in log_file_path.name:\n",
    "        # idx_time = re_baseline.search(log_file).end()\n",
    "        idx_time_total = re_baseline_total.search(log_file).end()\n",
    "        time_baseline_total = float(log_file[idx_time_total:idx_time_total+10])\n",
    "        baseline_times += strip_times(re_baseline.findall(log_file))\n",
    "        baseline_get_pixel_times += strip_times(re_get_pixel_sims.findall(log_file))\n",
    "        baseline_get_struc_times += strip_times(re_get_struc_sims.findall(log_file))\n",
    "        baseline_get_mse_times += strip_times(re_get_mean_sq_errs.findall(log_file))\n",
    "    else:\n",
    "        preprocess_times += strip_times(re_preprocess.findall(log_file))\n",
    "        get_cosine_times += strip_times(re_get_cosine_sims.findall(log_file))\n",
    "        get_pixel_times += strip_times(re_get_pixel_sims.findall(log_file))\n",
    "        get_struc_times += strip_times(re_get_struc_sims.findall(log_file))\n",
    "        get_mse_times += strip_times(re_get_mean_sq_errs.findall(log_file))"
   ]
  },
  {
   "cell_type": "markdown",
   "id": "e4bed374-344d-4859-a29a-0f9ad858d54b",
   "metadata": {},
   "source": [
    "### baseline"
   ]
  },
  {
   "cell_type": "code",
   "execution_count": 36,
   "id": "5b5780c9-1186-4224-a21c-1729b67b71ec",
   "metadata": {},
   "outputs": [
    {
     "name": "stdout",
     "output_type": "stream",
     "text": [
      "0.05681246566772461\n"
     ]
    }
   ],
   "source": [
    "print(np.average(baseline_get_pixel_times)) # per snapshot"
   ]
  },
  {
   "cell_type": "code",
   "execution_count": 37,
   "id": "3d6c264d-4945-4eb6-920c-b1e51720d369",
   "metadata": {},
   "outputs": [
    {
     "name": "stdout",
     "output_type": "stream",
     "text": [
      "0.019621464252471923\n"
     ]
    }
   ],
   "source": [
    "print(np.average(baseline_get_mse_times)) # per snapshot"
   ]
  },
  {
   "cell_type": "code",
   "execution_count": 38,
   "id": "a5af2832-4e8d-48a2-821a-ddb67bf21310",
   "metadata": {},
   "outputs": [
    {
     "name": "stdout",
     "output_type": "stream",
     "text": [
      "0.3227230306625366\n"
     ]
    }
   ],
   "source": [
    "print(np.average(baseline_get_struc_times)) # per snapshot"
   ]
  },
  {
   "cell_type": "code",
   "execution_count": 39,
   "id": "8d021fb6-e330-4d45-bf27-2b049bf10046",
   "metadata": {},
   "outputs": [
    {
     "data": {
      "text/html": [
       "<div>\n",
       "<style scoped>\n",
       "    .dataframe tbody tr th:only-of-type {\n",
       "        vertical-align: middle;\n",
       "    }\n",
       "\n",
       "    .dataframe tbody tr th {\n",
       "        vertical-align: top;\n",
       "    }\n",
       "\n",
       "    .dataframe thead th {\n",
       "        text-align: right;\n",
       "    }\n",
       "</style>\n",
       "<table border=\"1\" class=\"dataframe\">\n",
       "  <thead>\n",
       "    <tr style=\"text-align: right;\">\n",
       "      <th></th>\n",
       "      <th>baseline</th>\n",
       "    </tr>\n",
       "  </thead>\n",
       "  <tbody>\n",
       "    <tr>\n",
       "      <th>get_pix</th>\n",
       "      <td>0.056812</td>\n",
       "    </tr>\n",
       "    <tr>\n",
       "      <th>get_mse</th>\n",
       "      <td>0.019621</td>\n",
       "    </tr>\n",
       "    <tr>\n",
       "      <th>get_struc</th>\n",
       "      <td>0.322723</td>\n",
       "    </tr>\n",
       "    <tr>\n",
       "      <th>per_ss</th>\n",
       "      <td>0.400045</td>\n",
       "    </tr>\n",
       "  </tbody>\n",
       "</table>\n",
       "</div>"
      ],
      "text/plain": [
       "           baseline\n",
       "get_pix    0.056812\n",
       "get_mse    0.019621\n",
       "get_struc  0.322723\n",
       "per_ss     0.400045"
      ]
     },
     "execution_count": 39,
     "metadata": {},
     "output_type": "execute_result"
    }
   ],
   "source": [
    "baseline_timings = {\n",
    "    \"get_pix\": np.average(baseline_get_pixel_times),\n",
    "    \"get_mse\": np.average(baseline_get_mse_times),\n",
    "    \"get_struc\": np.average(baseline_get_struc_times),\n",
    "    \"per_ss\": np.average(baseline_times) / 10,\n",
    "}\n",
    "\n",
    "pd.DataFrame(baseline_timings, index=[\"baseline\"]).T"
   ]
  },
  {
   "cell_type": "markdown",
   "id": "40c40820-351f-40e2-9910-f346a98e9592",
   "metadata": {},
   "source": [
    "### ours"
   ]
  },
  {
   "cell_type": "code",
   "execution_count": 40,
   "id": "6e12308b-89b9-4977-9ae9-ba882622aafa",
   "metadata": {},
   "outputs": [
    {
     "data": {
      "text/plain": [
       "0.12204192591181207"
      ]
     },
     "execution_count": 40,
     "metadata": {},
     "output_type": "execute_result"
    }
   ],
   "source": [
    "np.average(preprocess_times) # per object"
   ]
  },
  {
   "cell_type": "code",
   "execution_count": 48,
   "id": "f408b68d-1913-4446-8603-23f56d250860",
   "metadata": {},
   "outputs": [
    {
     "data": {
      "text/plain": [
       "3.1355011605262755"
      ]
     },
     "execution_count": 48,
     "metadata": {},
     "output_type": "execute_result"
    }
   ],
   "source": [
    "# 10 snapshots per test case\n",
    "# 10 runs per test case\n",
    "# 25 test cases in total\n",
    "np.sum(preprocess_times) / (10 * 10 * 25) # per snapshot"
   ]
  },
  {
   "cell_type": "code",
   "execution_count": 49,
   "id": "53f83e1d-7767-48f7-8294-24018ac78126",
   "metadata": {},
   "outputs": [
    {
     "data": {
      "text/plain": [
       "0.06289765396118165"
      ]
     },
     "execution_count": 49,
     "metadata": {},
     "output_type": "execute_result"
    }
   ],
   "source": [
    "np.average(get_pixel_times) # per object"
   ]
  },
  {
   "cell_type": "code",
   "execution_count": 50,
   "id": "c7c568b7-4c82-41c9-afcc-f2d36ae85527",
   "metadata": {},
   "outputs": [
    {
     "data": {
      "text/plain": [
       "0.20965884653727213"
      ]
     },
     "execution_count": 50,
     "metadata": {},
     "output_type": "execute_result"
    }
   ],
   "source": [
    "# 10 runs per test case\n",
    "# 25 test cases in total\n",
    "# 3 different sets of experiments (diff background colour)\n",
    "np.sum(get_pixel_times) / (10 * 25 * 3) # per snapshot"
   ]
  },
  {
   "cell_type": "code",
   "execution_count": 51,
   "id": "54c31620-daff-4403-abba-b3fd74011527",
   "metadata": {},
   "outputs": [
    {
     "data": {
      "text/plain": [
       "0.1911738235473633"
      ]
     },
     "execution_count": 51,
     "metadata": {},
     "output_type": "execute_result"
    }
   ],
   "source": [
    "np.average(get_mse_times) # per snapshot"
   ]
  },
  {
   "cell_type": "code",
   "execution_count": 52,
   "id": "a5ffd9a5-9368-4e15-a163-511a3457e63f",
   "metadata": {},
   "outputs": [
    {
     "data": {
      "text/plain": [
       "2.4963019045829773"
      ]
     },
     "execution_count": 52,
     "metadata": {},
     "output_type": "execute_result"
    }
   ],
   "source": [
    "np.average(get_struc_times) # per snapshot"
   ]
  },
  {
   "cell_type": "code",
   "execution_count": 53,
   "id": "aa925049-1ce4-4f63-9d08-d2c70039d94e",
   "metadata": {},
   "outputs": [
    {
     "data": {
      "text/plain": [
       "0.17411484260559082"
      ]
     },
     "execution_count": 53,
     "metadata": {},
     "output_type": "execute_result"
    }
   ],
   "source": [
    "np.average(get_cosine_times) # per snapshot"
   ]
  },
  {
   "cell_type": "code",
   "execution_count": 55,
   "id": "ea07ff02-ae71-4a67-a002-eeffb22b3b66",
   "metadata": {},
   "outputs": [
    {
     "data": {
      "text/html": [
       "<div>\n",
       "<style scoped>\n",
       "    .dataframe tbody tr th:only-of-type {\n",
       "        vertical-align: middle;\n",
       "    }\n",
       "\n",
       "    .dataframe tbody tr th {\n",
       "        vertical-align: top;\n",
       "    }\n",
       "\n",
       "    .dataframe thead th {\n",
       "        text-align: right;\n",
       "    }\n",
       "</style>\n",
       "<table border=\"1\" class=\"dataframe\">\n",
       "  <thead>\n",
       "    <tr style=\"text-align: right;\">\n",
       "      <th></th>\n",
       "      <th>main</th>\n",
       "    </tr>\n",
       "  </thead>\n",
       "  <tbody>\n",
       "    <tr>\n",
       "      <th>preprocess</th>\n",
       "      <td>3.135501</td>\n",
       "    </tr>\n",
       "    <tr>\n",
       "      <th>get_pix</th>\n",
       "      <td>0.062898</td>\n",
       "    </tr>\n",
       "    <tr>\n",
       "      <th>get_mse</th>\n",
       "      <td>0.191174</td>\n",
       "    </tr>\n",
       "    <tr>\n",
       "      <th>get_struc</th>\n",
       "      <td>2.496302</td>\n",
       "    </tr>\n",
       "    <tr>\n",
       "      <th>get_cos</th>\n",
       "      <td>0.174115</td>\n",
       "    </tr>\n",
       "  </tbody>\n",
       "</table>\n",
       "</div>"
      ],
      "text/plain": [
       "                main\n",
       "preprocess  3.135501\n",
       "get_pix     0.062898\n",
       "get_mse     0.191174\n",
       "get_struc   2.496302\n",
       "get_cos     0.174115"
      ]
     },
     "execution_count": 55,
     "metadata": {},
     "output_type": "execute_result"
    }
   ],
   "source": [
    "main_timings = {\n",
    "    \"preprocess\": np.sum(preprocess_times) / (10 * 10 * 25),\n",
    "    \"get_pix\": np.average(get_pixel_times),\n",
    "    \"get_mse\": np.average(get_mse_times),\n",
    "    \"get_struc\": np.average(get_struc_times),\n",
    "    \"get_cos\": np.average(get_cosine_times),\n",
    "}\n",
    "\n",
    "pd.DataFrame(main_timings, index=[\"main\"]).T"
   ]
  },
  {
   "cell_type": "markdown",
   "id": "14f53d05-1a2f-4c52-8f5a-40ed20c45fa3",
   "metadata": {},
   "source": [
    "---"
   ]
  }
 ],
 "metadata": {
  "kernelspec": {
   "display_name": "Python 3 (ipykernel)",
   "language": "python",
   "name": "python3"
  },
  "language_info": {
   "codemirror_mode": {
    "name": "ipython",
    "version": 3
   },
   "file_extension": ".py",
   "mimetype": "text/x-python",
   "name": "python",
   "nbconvert_exporter": "python",
   "pygments_lexer": "ipython3",
   "version": "3.9.7"
  }
 },
 "nbformat": 4,
 "nbformat_minor": 5
}

{
 "cells": [
  {
   "cell_type": "code",
   "execution_count": 1,
   "id": "4035945e-360e-4318-8625-673699733133",
   "metadata": {},
   "outputs": [],
   "source": [
    "# !cd data && bsdtar --strip-components=1 -xvf snapshots.zip \n",
    "# !cd data && unzip assets.zip "
   ]
  },
  {
   "cell_type": "code",
   "execution_count": 2,
   "id": "b2169aaa-f23a-4eca-a8d3-b4353ee0378c",
   "metadata": {},
   "outputs": [],
   "source": [
    "from sprite_similarity.experiment import run"
   ]
  },
  {
   "cell_type": "markdown",
   "id": "94d98d40-a90c-48dc-b58f-3766757e6d76",
   "metadata": {},
   "source": [
    "### (0,0,0,255) background fill color"
   ]
  },
  {
   "cell_type": "code",
   "execution_count": null,
   "id": "fdb60d78-bc43-4a7a-8faf-2c042843c8e1",
   "metadata": {},
   "outputs": [],
   "source": [
    "run(\"exp_0\")"
   ]
  },
  {
   "cell_type": "code",
   "execution_count": null,
   "id": "0cd3c601-5551-449d-bee7-5a526a63afaf",
   "metadata": {},
   "outputs": [],
   "source": [
    "run(\"exp_rendering_1\")"
   ]
  },
  {
   "cell_type": "code",
   "execution_count": null,
   "id": "c920f888-e24a-42c4-b9c0-7a19c0582d3a",
   "metadata": {},
   "outputs": [],
   "source": [
    "run(\"exp_rendering_2\")"
   ]
  },
  {
   "cell_type": "code",
   "execution_count": null,
   "id": "beb1bcb2-1da8-4668-9283-0ce6d6ba82bd",
   "metadata": {},
   "outputs": [],
   "source": [
    "run(\"exp_rendering_3\")"
   ]
  },
  {
   "cell_type": "code",
   "execution_count": null,
   "id": "6d9bcf0e-333f-455d-836a-73044fd78fec",
   "metadata": {},
   "outputs": [],
   "source": [
    "run(\"exp_rendering_4\")"
   ]
  },
  {
   "cell_type": "code",
   "execution_count": 4,
   "id": "e910a4d7-c146-4edc-87c4-76b097fdf566",
   "metadata": {},
   "outputs": [
    {
     "name": "stdout",
     "output_type": "stream",
     "text": [
      "Device count = 1\n",
      "Device 1/1: NVIDIA TITAN RTX\n"
     ]
    }
   ],
   "source": [
    "run(\"exp_rendering_5\")"
   ]
  },
  {
   "cell_type": "code",
   "execution_count": 5,
   "id": "5c1b428d-a32a-418f-87f7-84313315dd44",
   "metadata": {},
   "outputs": [
    {
     "name": "stdout",
     "output_type": "stream",
     "text": [
      "Device count = 1\n",
      "Device 1/1: NVIDIA TITAN RTX\n"
     ]
    }
   ],
   "source": [
    "run(\"exp_rendering_6\")"
   ]
  },
  {
   "cell_type": "code",
   "execution_count": 6,
   "id": "047706ae-b5b8-47a4-a5c1-1c1d0cc8a43c",
   "metadata": {},
   "outputs": [
    {
     "name": "stdout",
     "output_type": "stream",
     "text": [
      "Device count = 1\n",
      "Device 1/1: NVIDIA TITAN RTX\n"
     ]
    }
   ],
   "source": [
    "run(\"exp_appearance_1\")"
   ]
  },
  {
   "cell_type": "code",
   "execution_count": 7,
   "id": "0db4b063-11e9-49a2-8b10-d87af105c65f",
   "metadata": {},
   "outputs": [
    {
     "name": "stdout",
     "output_type": "stream",
     "text": [
      "Device count = 1\n",
      "Device 1/1: NVIDIA TITAN RTX\n"
     ]
    }
   ],
   "source": [
    "run(\"exp_appearance_2\")"
   ]
  },
  {
   "cell_type": "code",
   "execution_count": 8,
   "id": "70076979-eee4-40ea-9020-8802ac34bacf",
   "metadata": {},
   "outputs": [
    {
     "name": "stdout",
     "output_type": "stream",
     "text": [
      "Device count = 1\n",
      "Device 1/1: NVIDIA TITAN RTX\n"
     ]
    }
   ],
   "source": [
    "run(\"exp_appearance_3\")"
   ]
  },
  {
   "cell_type": "code",
   "execution_count": 9,
   "id": "51bf577d-a6e4-458d-9f07-8fcf806dad08",
   "metadata": {},
   "outputs": [
    {
     "name": "stdout",
     "output_type": "stream",
     "text": [
      "Device count = 1\n",
      "Device 1/1: NVIDIA TITAN RTX\n"
     ]
    }
   ],
   "source": [
    "run(\"exp_appearance_4\")"
   ]
  },
  {
   "cell_type": "code",
   "execution_count": 10,
   "id": "39ce4a12-480b-44a0-afba-4f224cb7f276",
   "metadata": {},
   "outputs": [
    {
     "name": "stdout",
     "output_type": "stream",
     "text": [
      "Device count = 1\n",
      "Device 1/1: NVIDIA TITAN RTX\n"
     ]
    }
   ],
   "source": [
    "run(\"exp_appearance_5\")"
   ]
  },
  {
   "cell_type": "code",
   "execution_count": 11,
   "id": "2d4d9a11-0211-466a-95b4-6a50fc6b0d66",
   "metadata": {},
   "outputs": [
    {
     "name": "stdout",
     "output_type": "stream",
     "text": [
      "Device count = 1\n",
      "Device 1/1: NVIDIA TITAN RTX\n"
     ]
    }
   ],
   "source": [
    "run(\"exp_appearance_6\")"
   ]
  },
  {
   "cell_type": "code",
   "execution_count": 12,
   "id": "cb593f7e-3a2b-4709-a191-310e74b75bd6",
   "metadata": {},
   "outputs": [
    {
     "name": "stdout",
     "output_type": "stream",
     "text": [
      "Device count = 1\n",
      "Device 1/1: NVIDIA TITAN RTX\n"
     ]
    }
   ],
   "source": [
    "run(\"exp_layout_1\")"
   ]
  },
  {
   "cell_type": "code",
   "execution_count": 13,
   "id": "2328435d-de36-42ff-827c-09c76a5bb26c",
   "metadata": {},
   "outputs": [
    {
     "name": "stdout",
     "output_type": "stream",
     "text": [
      "Device count = 1\n",
      "Device 1/1: NVIDIA TITAN RTX\n"
     ]
    }
   ],
   "source": [
    "run(\"exp_layout_2\")"
   ]
  },
  {
   "cell_type": "code",
   "execution_count": 14,
   "id": "16ea232f-9631-4ac1-a203-ef837afb7cc3",
   "metadata": {},
   "outputs": [
    {
     "name": "stdout",
     "output_type": "stream",
     "text": [
      "Device count = 1\n",
      "Device 1/1: NVIDIA TITAN RTX\n"
     ]
    }
   ],
   "source": [
    "run(\"exp_layout_3\")"
   ]
  },
  {
   "cell_type": "code",
   "execution_count": 15,
   "id": "9197a050-dd57-43b1-9ca3-027ae8f04884",
   "metadata": {},
   "outputs": [
    {
     "name": "stdout",
     "output_type": "stream",
     "text": [
      "Device count = 1\n",
      "Device 1/1: NVIDIA TITAN RTX\n"
     ]
    }
   ],
   "source": [
    "run(\"exp_layout_4\")"
   ]
  },
  {
   "cell_type": "code",
   "execution_count": 16,
   "id": "52a1371a-01cd-43c4-8074-ba7a19c8b158",
   "metadata": {},
   "outputs": [
    {
     "name": "stdout",
     "output_type": "stream",
     "text": [
      "Device count = 1\n",
      "Device 1/1: NVIDIA TITAN RTX\n"
     ]
    }
   ],
   "source": [
    "run(\"exp_layout_5\")"
   ]
  },
  {
   "cell_type": "code",
   "execution_count": 17,
   "id": "0de6b1ab-04e8-4eaa-b9d7-45ccfd3e2b88",
   "metadata": {},
   "outputs": [
    {
     "name": "stdout",
     "output_type": "stream",
     "text": [
      "Device count = 1\n",
      "Device 1/1: NVIDIA TITAN RTX\n"
     ]
    }
   ],
   "source": [
    "run(\"exp_layout_6\")"
   ]
  },
  {
   "cell_type": "code",
   "execution_count": 18,
   "id": "bd9e49fd-fcf6-4d8f-89bb-4a7bad026451",
   "metadata": {},
   "outputs": [
    {
     "name": "stdout",
     "output_type": "stream",
     "text": [
      "Device count = 1\n",
      "Device 1/1: NVIDIA TITAN RTX\n"
     ]
    }
   ],
   "source": [
    "run(\"exp_state_1\")"
   ]
  },
  {
   "cell_type": "code",
   "execution_count": 19,
   "id": "3f622398-e2a1-4181-8f48-44c89fb16161",
   "metadata": {},
   "outputs": [
    {
     "name": "stdout",
     "output_type": "stream",
     "text": [
      "Device count = 1\n",
      "Device 1/1: NVIDIA TITAN RTX\n"
     ]
    }
   ],
   "source": [
    "run(\"exp_state_2\")"
   ]
  },
  {
   "cell_type": "code",
   "execution_count": 20,
   "id": "3bf4b1db-8217-4644-bc0d-01649d237e1b",
   "metadata": {},
   "outputs": [
    {
     "name": "stdout",
     "output_type": "stream",
     "text": [
      "Device count = 1\n",
      "Device 1/1: NVIDIA TITAN RTX\n"
     ]
    }
   ],
   "source": [
    "run(\"exp_state_3\")"
   ]
  },
  {
   "cell_type": "code",
   "execution_count": 21,
   "id": "8018a342-ddb2-45d3-ae48-ffc6b4a76829",
   "metadata": {},
   "outputs": [
    {
     "name": "stdout",
     "output_type": "stream",
     "text": [
      "Device count = 1\n",
      "Device 1/1: NVIDIA TITAN RTX\n"
     ]
    }
   ],
   "source": [
    "run(\"exp_state_4\")"
   ]
  },
  {
   "cell_type": "code",
   "execution_count": 22,
   "id": "5592a2e0-885f-4cf3-87a0-3a61e888c097",
   "metadata": {
    "tags": []
   },
   "outputs": [
    {
     "name": "stdout",
     "output_type": "stream",
     "text": [
      "Device count = 1\n",
      "Device 1/1: NVIDIA TITAN RTX\n"
     ]
    }
   ],
   "source": [
    "run(\"exp_state_5\")"
   ]
  },
  {
   "cell_type": "code",
   "execution_count": 23,
   "id": "0a401e2b-c32e-4995-8237-6b0b73130fd9",
   "metadata": {},
   "outputs": [
    {
     "name": "stdout",
     "output_type": "stream",
     "text": [
      "Device count = 1\n",
      "Device 1/1: NVIDIA TITAN RTX\n"
     ]
    }
   ],
   "source": [
    "run(\"exp_state_6\")"
   ]
  },
  {
   "cell_type": "markdown",
   "id": "f130b13f-de62-4f7a-b38f-3374bf463ba2",
   "metadata": {},
   "source": [
    "----"
   ]
  },
  {
   "cell_type": "markdown",
   "id": "3d27da19-ae23-47e0-af9a-d1aebf4468a1",
   "metadata": {
    "tags": []
   },
   "source": [
    "### (255,255,255,255) background fill color"
   ]
  },
  {
   "cell_type": "code",
   "execution_count": null,
   "id": "b9103ff1-506f-4ba3-bc9c-63adeaf9b780",
   "metadata": {},
   "outputs": [
    {
     "name": "stdout",
     "output_type": "stream",
     "text": [
      "Device count = 1\n",
      "Device 1/1: NVIDIA TITAN RTX\n"
     ]
    }
   ],
   "source": [
    "run(\"exp_0\", \"1111\")"
   ]
  },
  {
   "cell_type": "code",
   "execution_count": null,
   "id": "eb007805-ded8-4ffd-87ce-c4e897f3b173",
   "metadata": {},
   "outputs": [],
   "source": [
    "run(\"exp_rendering_1\", \"1111\")"
   ]
  },
  {
   "cell_type": "code",
   "execution_count": null,
   "id": "3dd26b0d-c7e4-4bef-8e03-1adab37d5b1e",
   "metadata": {},
   "outputs": [],
   "source": [
    "run(\"exp_rendering_2\", \"1111\")"
   ]
  },
  {
   "cell_type": "code",
   "execution_count": null,
   "id": "34157a82-2e9d-495c-bce6-11342ac9b96d",
   "metadata": {},
   "outputs": [],
   "source": [
    "run(\"exp_rendering_3\", \"1111\")"
   ]
  },
  {
   "cell_type": "code",
   "execution_count": null,
   "id": "14527753-fb82-464e-994e-f026c7d11e23",
   "metadata": {},
   "outputs": [],
   "source": [
    "run(\"exp_rendering_4\", \"1111\")"
   ]
  },
  {
   "cell_type": "code",
   "execution_count": null,
   "id": "47fe81de-92a6-44dd-accd-68b7e9233021",
   "metadata": {},
   "outputs": [],
   "source": [
    "run(\"exp_rendering_5\", \"1111\")"
   ]
  },
  {
   "cell_type": "code",
   "execution_count": null,
   "id": "5ca913fb-5646-4fc6-afa9-5f9c48dcafcd",
   "metadata": {},
   "outputs": [],
   "source": [
    "run(\"exp_rendering_6\", \"1111\")"
   ]
  },
  {
   "cell_type": "code",
   "execution_count": null,
   "id": "13e75429-ca85-4a13-b51d-491cfb931fa2",
   "metadata": {},
   "outputs": [],
   "source": [
    "run(\"exp_appearance_1\", \"1111\")"
   ]
  },
  {
   "cell_type": "code",
   "execution_count": null,
   "id": "6a119e73-434b-492c-b371-b2aff67c5afb",
   "metadata": {},
   "outputs": [],
   "source": [
    "run(\"exp_appearance_2\", \"1111\")"
   ]
  },
  {
   "cell_type": "code",
   "execution_count": null,
   "id": "68315570-1b39-411a-b409-8fb550ce8085",
   "metadata": {},
   "outputs": [],
   "source": [
    "run(\"exp_appearance_3\", \"1111\")"
   ]
  },
  {
   "cell_type": "code",
   "execution_count": null,
   "id": "a2e98158-f55d-475d-871d-eea797835738",
   "metadata": {},
   "outputs": [],
   "source": [
    "run(\"exp_appearance_4\", \"1111\")"
   ]
  },
  {
   "cell_type": "code",
   "execution_count": null,
   "id": "b69168bf-e1f2-4ad3-aca3-6f092d0b870d",
   "metadata": {},
   "outputs": [],
   "source": [
    "run(\"exp_appearance_5\", \"1111\")"
   ]
  },
  {
   "cell_type": "code",
   "execution_count": null,
   "id": "13917f23-d19c-4318-86e5-30fb2fe09846",
   "metadata": {},
   "outputs": [],
   "source": [
    "run(\"exp_appearance_6\", \"1111\")"
   ]
  },
  {
   "cell_type": "code",
   "execution_count": null,
   "id": "565e13a4-3be9-4386-a6ce-57f6fd898fb8",
   "metadata": {},
   "outputs": [],
   "source": [
    "run(\"exp_layout_1\", \"1111\")"
   ]
  },
  {
   "cell_type": "code",
   "execution_count": null,
   "id": "e53ea186-97a7-4273-b204-0be26235b6ba",
   "metadata": {},
   "outputs": [],
   "source": [
    "run(\"exp_layout_2\", \"1111\")"
   ]
  },
  {
   "cell_type": "code",
   "execution_count": null,
   "id": "fe1542dc-45ea-4e67-8c9d-1d900f4cf890",
   "metadata": {},
   "outputs": [],
   "source": [
    "run(\"exp_layout_3\", \"1111\")"
   ]
  },
  {
   "cell_type": "code",
   "execution_count": null,
   "id": "8b7a9550-500c-443d-9573-c41a5b3c5326",
   "metadata": {},
   "outputs": [],
   "source": [
    "run(\"exp_layout_4\", \"1111\")"
   ]
  },
  {
   "cell_type": "code",
   "execution_count": null,
   "id": "ce292120-5c48-457b-ad6f-c1045b029ba4",
   "metadata": {},
   "outputs": [],
   "source": [
    "run(\"exp_layout_5\", \"1111\")"
   ]
  },
  {
   "cell_type": "code",
   "execution_count": null,
   "id": "a309492d-00b2-4857-8719-34f992b40b9a",
   "metadata": {},
   "outputs": [],
   "source": [
    "run(\"exp_layout_6\", \"1111\")"
   ]
  },
  {
   "cell_type": "code",
   "execution_count": null,
   "id": "a8a2028c-20f0-4b16-b025-78b91e978ad2",
   "metadata": {},
   "outputs": [],
   "source": [
    "run(\"exp_state_1\", \"1111\")"
   ]
  },
  {
   "cell_type": "code",
   "execution_count": null,
   "id": "ed42f436-fcd1-48dd-8152-499f4b9b7a90",
   "metadata": {},
   "outputs": [],
   "source": [
    "run(\"exp_state_2\", \"1111\")"
   ]
  },
  {
   "cell_type": "code",
   "execution_count": null,
   "id": "af49ccb5-1596-498b-b543-d9ab5560a73a",
   "metadata": {},
   "outputs": [],
   "source": [
    "run(\"exp_state_3\", \"1111\")"
   ]
  },
  {
   "cell_type": "code",
   "execution_count": null,
   "id": "eebda3a7-df2a-4482-a9ee-cb4ab5b9766b",
   "metadata": {},
   "outputs": [],
   "source": [
    "run(\"exp_state_4\", \"1111\")"
   ]
  },
  {
   "cell_type": "code",
   "execution_count": null,
   "id": "f831a54c-8612-43d8-b35d-c41bf54d446d",
   "metadata": {},
   "outputs": [],
   "source": [
    "run(\"exp_state_5\", \"1111\")"
   ]
  },
  {
   "cell_type": "code",
   "execution_count": null,
   "id": "6c4cc55e-94c2-42d1-b56d-544e4f0a4498",
   "metadata": {},
   "outputs": [],
   "source": [
    "run(\"exp_state_6\", \"1111\")"
   ]
  },
  {
   "cell_type": "markdown",
   "id": "29ab3a14-3e6f-4b4c-8b6c-f4c111ec6d6c",
   "metadata": {},
   "source": [
    "----"
   ]
  },
  {
   "cell_type": "markdown",
   "id": "9b9e2432-1fcb-4c5a-9f30-07eb2d0efaf2",
   "metadata": {
    "tags": []
   },
   "source": [
    "### (255,0,0,255) background fill color"
   ]
  },
  {
   "cell_type": "code",
   "execution_count": null,
   "id": "b5f01277-421a-424c-85cc-d6b8e2ddc58e",
   "metadata": {},
   "outputs": [],
   "source": [
    "run(\"exp_0\", \"1001\")"
   ]
  },
  {
   "cell_type": "code",
   "execution_count": null,
   "id": "bbca4d32-278f-48b8-a887-6de2a6208909",
   "metadata": {},
   "outputs": [],
   "source": [
    "run(\"exp_rendering_1\", \"1001\")"
   ]
  },
  {
   "cell_type": "code",
   "execution_count": null,
   "id": "f2c22952-c217-4f05-a10c-ec96f8303748",
   "metadata": {},
   "outputs": [],
   "source": [
    "run(\"exp_rendering_2\", \"1001\")"
   ]
  },
  {
   "cell_type": "code",
   "execution_count": null,
   "id": "8cc7bc5c-96e4-4149-b4c7-c10a07c23bf5",
   "metadata": {},
   "outputs": [],
   "source": [
    "run(\"exp_rendering_3\", \"1001\")"
   ]
  },
  {
   "cell_type": "code",
   "execution_count": null,
   "id": "c57bcf16-9a02-4f41-835b-114eb25bd412",
   "metadata": {},
   "outputs": [],
   "source": [
    "run(\"exp_rendering_4\", \"1001\")"
   ]
  },
  {
   "cell_type": "code",
   "execution_count": null,
   "id": "73d9c2af-136f-4ba0-a7fd-ca7394ace63a",
   "metadata": {},
   "outputs": [],
   "source": [
    "run(\"exp_rendering_5\", \"1001\")"
   ]
  },
  {
   "cell_type": "code",
   "execution_count": null,
   "id": "3e5ecd67-24af-4fee-96fd-bd163686afaa",
   "metadata": {},
   "outputs": [],
   "source": [
    "run(\"exp_rendering_6\", \"1001\")"
   ]
  },
  {
   "cell_type": "code",
   "execution_count": null,
   "id": "996f76e7-8983-4328-be2b-1e0b45cea3de",
   "metadata": {},
   "outputs": [],
   "source": [
    "run(\"exp_appearance_1\", \"1001\")"
   ]
  },
  {
   "cell_type": "code",
   "execution_count": null,
   "id": "d6f0bb65-5978-41d5-b424-f9835780536e",
   "metadata": {},
   "outputs": [],
   "source": [
    "run(\"exp_appearance_2\", \"1001\")"
   ]
  },
  {
   "cell_type": "code",
   "execution_count": null,
   "id": "d2b88ff4-0a5e-423f-9917-18503031258e",
   "metadata": {},
   "outputs": [],
   "source": [
    "run(\"exp_appearance_3\", \"1001\")"
   ]
  },
  {
   "cell_type": "code",
   "execution_count": null,
   "id": "1976cce3-5da1-4510-98e2-f25a82e86f21",
   "metadata": {},
   "outputs": [],
   "source": [
    "run(\"exp_appearance_4\", \"1001\")"
   ]
  },
  {
   "cell_type": "code",
   "execution_count": null,
   "id": "eeaf8dc3-771e-40f9-b9d0-514aba9e371e",
   "metadata": {},
   "outputs": [],
   "source": [
    "run(\"exp_appearance_5\", \"1001\")"
   ]
  },
  {
   "cell_type": "code",
   "execution_count": null,
   "id": "eb63c1e4-40a0-4ad2-8d33-290dee047b8e",
   "metadata": {},
   "outputs": [],
   "source": [
    "run(\"exp_appearance_6\", \"1001\")"
   ]
  },
  {
   "cell_type": "code",
   "execution_count": null,
   "id": "5504e24a-2d9d-4d21-a2f8-2be72a306626",
   "metadata": {},
   "outputs": [],
   "source": [
    "run(\"exp_layout_1\", \"1001\")"
   ]
  },
  {
   "cell_type": "code",
   "execution_count": null,
   "id": "0c8e0f47-4fc8-4fb4-9558-2d225d257263",
   "metadata": {},
   "outputs": [],
   "source": [
    "run(\"exp_layout_2\", \"1001\")"
   ]
  },
  {
   "cell_type": "code",
   "execution_count": null,
   "id": "6034e46d-5c32-48ea-bce4-f7bec7d410ce",
   "metadata": {},
   "outputs": [],
   "source": [
    "run(\"exp_layout_3\", \"1001\")"
   ]
  },
  {
   "cell_type": "code",
   "execution_count": null,
   "id": "582ae6ac-2641-43dc-8ac3-98809e8153af",
   "metadata": {},
   "outputs": [],
   "source": [
    "run(\"exp_layout_4\", \"1001\")"
   ]
  },
  {
   "cell_type": "code",
   "execution_count": null,
   "id": "4f3af430-cdcf-4ade-8d60-d9a72e939328",
   "metadata": {},
   "outputs": [],
   "source": [
    "run(\"exp_layout_5\", \"1001\")"
   ]
  },
  {
   "cell_type": "code",
   "execution_count": null,
   "id": "e6316c86-e7e2-4a69-b96e-30eb77bf1cbb",
   "metadata": {},
   "outputs": [],
   "source": [
    "run(\"exp_layout_6\", \"1001\")"
   ]
  },
  {
   "cell_type": "code",
   "execution_count": null,
   "id": "e56798af-3d3d-4066-b3b6-c7f9c8b0908f",
   "metadata": {},
   "outputs": [],
   "source": [
    "run(\"exp_state_1\", \"1001\")"
   ]
  },
  {
   "cell_type": "code",
   "execution_count": null,
   "id": "219e21f5-5149-418b-a283-0c4f9a4bc96c",
   "metadata": {},
   "outputs": [],
   "source": [
    "run(\"exp_state_2\", \"1001\")"
   ]
  },
  {
   "cell_type": "code",
   "execution_count": null,
   "id": "8ad7c0f4-502d-4078-bb67-bce153d83a81",
   "metadata": {},
   "outputs": [],
   "source": [
    "run(\"exp_state_3\", \"1001\")"
   ]
  },
  {
   "cell_type": "code",
   "execution_count": null,
   "id": "0da46caf-de38-4fcd-ab25-3874fe7c281e",
   "metadata": {},
   "outputs": [],
   "source": [
    "run(\"exp_state_4\", \"1001\")"
   ]
  },
  {
   "cell_type": "code",
   "execution_count": null,
   "id": "6bd1f726-b2f7-4f00-816e-c6ca5e9c3bf6",
   "metadata": {},
   "outputs": [],
   "source": [
    "run(\"exp_state_5\", \"1001\")"
   ]
  },
  {
   "cell_type": "code",
   "execution_count": null,
   "id": "b159b30e-199e-4c80-b2f6-10b9b8577607",
   "metadata": {},
   "outputs": [],
   "source": [
    "run(\"exp_state_6\", \"1001\")"
   ]
  },
  {
   "cell_type": "markdown",
   "id": "ecb84500-315c-4dcd-af15-76d499c9493d",
   "metadata": {},
   "source": [
    "----"
   ]
  }
 ],
 "metadata": {
  "kernelspec": {
   "display_name": "Python 3 (ipykernel)",
   "language": "python",
   "name": "python3"
  },
  "language_info": {
   "codemirror_mode": {
    "name": "ipython",
    "version": 3
   },
   "file_extension": ".py",
   "mimetype": "text/x-python",
   "name": "python",
   "nbconvert_exporter": "python",
   "pygments_lexer": "ipython3",
   "version": "3.9.7"
  }
 },
 "nbformat": 4,
 "nbformat_minor": 5
}
